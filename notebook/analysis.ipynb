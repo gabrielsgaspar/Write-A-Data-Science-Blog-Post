{
 "cells": [
  {
   "cell_type": "markdown",
   "metadata": {},
   "source": [
    "# Title here\n",
    "\n",
    "Description here\n",
    "\n",
    "## Table of contents\n",
    "- [1. Business undestanding](#business)\n",
    "- [2. Data understanding](#data)\n",
    "    - [2.1. Gathering data](#gather)\n",
    "    - [2.2. Assessing data](#assess)\n",
    "- [3. Prepare data](#prepare)\n",
    "- [4. Data modeling](#model)\n",
    "- [5. Evaluate the results](#eval)\n",
    "- [6. Deploy](#deploy)"
   ]
  },
  {
   "cell_type": "markdown",
   "metadata": {},
   "source": [
    "<a name=\"business\"></a>\n",
    "## 1. Business understanding\n",
    "\n",
    "Text text\n",
    "\n",
    "> Question 1 \\\n",
    "> Question 2 \\\n",
    "> Question 3 \\\n",
    "> Question 4"
   ]
  },
  {
   "cell_type": "markdown",
   "metadata": {},
   "source": [
    "<a name=\"data\"></a>\n",
    "## 2. Data understanding\n",
    "\n",
    "Text text"
   ]
  },
  {
   "cell_type": "markdown",
   "metadata": {},
   "source": [
    "<a name=\"gather\"></a>\n",
    "   "
   ]
  },
  {
   "cell_type": "markdown",
   "metadata": {},
   "source": [
    "<a name=\"gather\"></a>\n",
    "### 2.1. Gathering data\n",
    "\n",
    "Text text"
   ]
  },
  {
   "cell_type": "code",
   "execution_count": null,
   "metadata": {},
   "outputs": [],
   "source": []
  },
  {
   "cell_type": "markdown",
   "metadata": {},
   "source": [
    "<a name=\"assess\"></a>\n",
    "### 2.2. Assessing data\n",
    "\n",
    "Text text"
   ]
  },
  {
   "cell_type": "code",
   "execution_count": null,
   "metadata": {},
   "outputs": [],
   "source": []
  },
  {
   "cell_type": "markdown",
   "metadata": {},
   "source": [
    "<a name=\"prepare\"></a>\n",
    "## 3. Prepare data\n",
    "\n",
    "Text text"
   ]
  },
  {
   "cell_type": "code",
   "execution_count": null,
   "metadata": {},
   "outputs": [],
   "source": []
  },
  {
   "cell_type": "markdown",
   "metadata": {},
   "source": [
    "<a name=\"model\"></a>\n",
    "## 4. Data modeling\n",
    "\n",
    "Text text"
   ]
  },
  {
   "cell_type": "code",
   "execution_count": null,
   "metadata": {},
   "outputs": [],
   "source": []
  },
  {
   "cell_type": "markdown",
   "metadata": {},
   "source": [
    "<a name=\"eval\"></a>\n",
    "## 5. Evaluate the results\n",
    "\n",
    "Text text"
   ]
  },
  {
   "cell_type": "code",
   "execution_count": null,
   "metadata": {},
   "outputs": [],
   "source": []
  },
  {
   "cell_type": "markdown",
   "metadata": {},
   "source": [
    "<a name=\"deploy\"></a>\n",
    "## 6. Deploy\n",
    "\n",
    "Text text"
   ]
  },
  {
   "cell_type": "code",
   "execution_count": null,
   "metadata": {},
   "outputs": [],
   "source": []
  }
 ],
 "metadata": {
  "kernelspec": {
   "display_name": "Python [conda env:root] *",
   "language": "python",
   "name": "conda-root-py"
  },
  "language_info": {
   "codemirror_mode": {
    "name": "ipython",
    "version": 3
   },
   "file_extension": ".py",
   "mimetype": "text/x-python",
   "name": "python",
   "nbconvert_exporter": "python",
   "pygments_lexer": "ipython3",
   "version": "3.7.6"
  }
 },
 "nbformat": 4,
 "nbformat_minor": 4
}
